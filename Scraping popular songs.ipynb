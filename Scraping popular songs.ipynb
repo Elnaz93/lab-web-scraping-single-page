{
 "cells": [
  {
   "cell_type": "code",
   "execution_count": 1,
   "id": "ce1f4874",
   "metadata": {},
   "outputs": [],
   "source": [
    "from bs4 import BeautifulSoup\n",
    "import requests\n",
    "import pandas as pd"
   ]
  },
  {
   "cell_type": "code",
   "execution_count": 2,
   "id": "9a3ea712",
   "metadata": {},
   "outputs": [],
   "source": [
    "r = requests.get('https://www.billboard.com/charts/hot-100/')"
   ]
  },
  {
   "cell_type": "code",
   "execution_count": 3,
   "id": "f2b7941e",
   "metadata": {},
   "outputs": [
    {
     "data": {
      "text/plain": [
       "200"
      ]
     },
     "execution_count": 3,
     "metadata": {},
     "output_type": "execute_result"
    }
   ],
   "source": [
    "r.status_code"
   ]
  },
  {
   "cell_type": "markdown",
   "id": "8ea0535a",
   "metadata": {},
   "source": [
    "(html)"
   ]
  },
  {
   "cell_type": "code",
   "execution_count": 4,
   "id": "0bb728de",
   "metadata": {},
   "outputs": [],
   "source": [
    "html = r.content"
   ]
  },
  {
   "cell_type": "markdown",
   "id": "0c8f245e",
   "metadata": {},
   "source": [
    "(soup)"
   ]
  },
  {
   "cell_type": "code",
   "execution_count": 5,
   "id": "07968b2a",
   "metadata": {},
   "outputs": [],
   "source": [
    "soup = BeautifulSoup(html, 'html.parser')"
   ]
  },
  {
   "cell_type": "markdown",
   "id": "cd02056c",
   "metadata": {},
   "source": [
    "(html_songs)"
   ]
  },
  {
   "cell_type": "code",
   "execution_count": 6,
   "id": "d894ca61",
   "metadata": {},
   "outputs": [],
   "source": [
    "html_songs = soup.find_all('h3', attrs={'id': 'title-of-a-story'})"
   ]
  },
  {
   "cell_type": "code",
   "execution_count": 7,
   "id": "4ff415dc",
   "metadata": {},
   "outputs": [],
   "source": [
    "html_top1 = soup.find_all('span', attrs={'class': 'c-label a-no-trucate a-font-primary-s \\\n",
    "lrv-u-font-size-14@mobile-max u-line-height-normal@mobile-max u-letter-spacing-0021 \\\n",
    "lrv-u-display-block a-truncate-ellipsis-2line u-max-width-330 u-max-width-230@tablet-only u-font-size-20@tablet'})"
   ]
  },
  {
   "cell_type": "code",
   "execution_count": 8,
   "id": "05a755b2",
   "metadata": {},
   "outputs": [
    {
     "data": {
      "text/plain": [
       "[<span class=\"c-label a-no-trucate a-font-primary-s lrv-u-font-size-14@mobile-max u-line-height-normal@mobile-max u-letter-spacing-0021 lrv-u-display-block a-truncate-ellipsis-2line u-max-width-330 u-max-width-230@tablet-only u-font-size-20@tablet\">\n",
       " \t\n",
       " \tSteve Lacy\n",
       " </span>]"
      ]
     },
     "execution_count": 8,
     "metadata": {},
     "output_type": "execute_result"
    }
   ],
   "source": [
    "html_top1"
   ]
  },
  {
   "cell_type": "markdown",
   "id": "3d854699",
   "metadata": {},
   "source": [
    "(html_artists)"
   ]
  },
  {
   "cell_type": "code",
   "execution_count": 9,
   "id": "f9731c61",
   "metadata": {},
   "outputs": [],
   "source": [
    "html_artists = soup.find_all('span', attrs={'class': 'c-label a-no-trucate a-font-primary-s lrv-u-font-size-14@mobile-max \\\n",
    "u-line-height-normal@mobile-max u-letter-spacing-0021 lrv-u-display-block a-truncate-ellipsis-2line u-max-width-330 \\\n",
    "u-max-width-230@tablet-only'})"
   ]
  },
  {
   "cell_type": "markdown",
   "id": "6dbaaa84",
   "metadata": {},
   "source": [
    "Looking with \"Inspect\" in the Billboard chart, a parent class \"li\" contains the info of both song titles and artists:\n",
    "Because the fonts are different, the first song has one class and all the rest of the songs have another class. So \n",
    " we have to put the 2 list toguether. "
   ]
  },
  {
   "cell_type": "markdown",
   "id": "88605ded",
   "metadata": {},
   "source": [
    "html_first"
   ]
  },
  {
   "cell_type": "code",
   "execution_count": 10,
   "id": "682fdfa5",
   "metadata": {},
   "outputs": [],
   "source": [
    "html_first = soup.find_all('li', attrs={'class': 'o-chart-results-list__item // lrv-u-flex-grow-1 lrv-u-flex \\\n",
    "lrv-u-flex-direction-column lrv-u-justify-content-center lrv-u-border-b-1 u-border-b-0@mobile-max \\\n",
    "lrv-u-border-color-grey-light lrv-u-padding-l-1@mobile-max'})"
   ]
  },
  {
   "cell_type": "markdown",
   "id": "06843401",
   "metadata": {},
   "source": [
    "(html_rest)"
   ]
  },
  {
   "cell_type": "code",
   "execution_count": 11,
   "id": "11486a2c",
   "metadata": {},
   "outputs": [],
   "source": [
    "html_rest = soup.find_all('li', attrs={'class': 'o-chart-results-list__item // lrv-u-flex-grow-1 lrv-u-flex \\\n",
    "lrv-u-flex-direction-column lrv-u-justify-content-center lrv-u-border-b-1 u-border-b-0@mobile-max lrv-u-border-color-grey-light \\\n",
    "lrv-u-padding-l-050 lrv-u-padding-l-1@mobile-max'})"
   ]
  },
  {
   "cell_type": "code",
   "execution_count": 12,
   "id": "a5a140ef",
   "metadata": {},
   "outputs": [],
   "source": [
    "html_all = html_first + html_rest"
   ]
  },
  {
   "cell_type": "markdown",
   "id": "cb09865a",
   "metadata": {},
   "source": [
    "###### Data Cleaning"
   ]
  },
  {
   "cell_type": "code",
   "execution_count": 13,
   "id": "e5156cec",
   "metadata": {},
   "outputs": [
    {
     "data": {
      "text/html": [
       "<div>\n",
       "<style scoped>\n",
       "    .dataframe tbody tr th:only-of-type {\n",
       "        vertical-align: middle;\n",
       "    }\n",
       "\n",
       "    .dataframe tbody tr th {\n",
       "        vertical-align: top;\n",
       "    }\n",
       "\n",
       "    .dataframe thead th {\n",
       "        text-align: right;\n",
       "    }\n",
       "</style>\n",
       "<table border=\"1\" class=\"dataframe\">\n",
       "  <thead>\n",
       "    <tr style=\"text-align: right;\">\n",
       "      <th></th>\n",
       "      <th>song</th>\n",
       "      <th>artist</th>\n",
       "    </tr>\n",
       "  </thead>\n",
       "  <tbody>\n",
       "    <tr>\n",
       "      <th>0</th>\n",
       "      <td>Bad Habit</td>\n",
       "      <td>Steve Lacy</td>\n",
       "    </tr>\n",
       "    <tr>\n",
       "      <th>1</th>\n",
       "      <td>Unholy</td>\n",
       "      <td>Sam Smith &amp; Kim Petras</td>\n",
       "    </tr>\n",
       "    <tr>\n",
       "      <th>2</th>\n",
       "      <td>As It Was</td>\n",
       "      <td>Harry Styles</td>\n",
       "    </tr>\n",
       "    <tr>\n",
       "      <th>3</th>\n",
       "      <td>I Like You (A Happier Song)</td>\n",
       "      <td>Post Malone Featuring Doja Cat</td>\n",
       "    </tr>\n",
       "    <tr>\n",
       "      <th>4</th>\n",
       "      <td>Sunroof</td>\n",
       "      <td>Nicky Youre &amp; dazy</td>\n",
       "    </tr>\n",
       "    <tr>\n",
       "      <th>...</th>\n",
       "      <td>...</td>\n",
       "      <td>...</td>\n",
       "    </tr>\n",
       "    <tr>\n",
       "      <th>95</th>\n",
       "      <td>Gotta Move On</td>\n",
       "      <td>Diddy &amp; Bryson Tiller</td>\n",
       "    </tr>\n",
       "    <tr>\n",
       "      <th>96</th>\n",
       "      <td>Forget Me</td>\n",
       "      <td>Lewis Capaldi</td>\n",
       "    </tr>\n",
       "    <tr>\n",
       "      <th>97</th>\n",
       "      <td>Down Home</td>\n",
       "      <td>Jimmie Allen</td>\n",
       "    </tr>\n",
       "    <tr>\n",
       "      <th>98</th>\n",
       "      <td>What He Didn't Do</td>\n",
       "      <td>Carly Pearce</td>\n",
       "    </tr>\n",
       "    <tr>\n",
       "      <th>99</th>\n",
       "      <td>Talk</td>\n",
       "      <td>Yeat</td>\n",
       "    </tr>\n",
       "  </tbody>\n",
       "</table>\n",
       "<p>100 rows × 2 columns</p>\n",
       "</div>"
      ],
      "text/plain": [
       "                           song                          artist\n",
       "0                     Bad Habit                      Steve Lacy\n",
       "1                        Unholy          Sam Smith & Kim Petras\n",
       "2                     As It Was                    Harry Styles\n",
       "3   I Like You (A Happier Song)  Post Malone Featuring Doja Cat\n",
       "4                       Sunroof              Nicky Youre & dazy\n",
       "..                          ...                             ...\n",
       "95                Gotta Move On           Diddy & Bryson Tiller\n",
       "96                    Forget Me                   Lewis Capaldi\n",
       "97                    Down Home                    Jimmie Allen\n",
       "98            What He Didn't Do                    Carly Pearce\n",
       "99                         Talk                            Yeat\n",
       "\n",
       "[100 rows x 2 columns]"
      ]
     },
     "execution_count": 13,
     "metadata": {},
     "output_type": "execute_result"
    }
   ],
   "source": [
    "song = []\n",
    "artist = []\n",
    "\n",
    "for entry in html_all:\n",
    "    song.append(entry.find(\"h3\").get_text().replace(\"\\n\", \"\").replace('\\t', ''))\n",
    "    artist.append(entry.find(\"span\").get_text().replace(\"\\n\", \"\").replace('\\t', ''))\n",
    "    \n",
    "# Here we ensamble the DataFrame \n",
    "top100 = pd.DataFrame()\n",
    "top100['song'] = song\n",
    "top100['artist'] = artist\n",
    "top100\n",
    "    "
   ]
  },
  {
   "cell_type": "code",
   "execution_count": 14,
   "id": "d213077a",
   "metadata": {},
   "outputs": [],
   "source": [
    "chart = []\n",
    "\n",
    "for entry in html_all:\n",
    "    col = {'song': entry.find('h3').get_text().replace('\\n', \"\").replace('\\t', \"\"),\n",
    "           'artist': entry.find('span').get_text().replace('\\n', \"\").replace('\\t', \"\")}\n",
    "    chart.append(col)"
   ]
  },
  {
   "cell_type": "code",
   "execution_count": 16,
   "id": "45b8c4e1",
   "metadata": {},
   "outputs": [
    {
     "data": {
      "text/html": [
       "<div>\n",
       "<style scoped>\n",
       "    .dataframe tbody tr th:only-of-type {\n",
       "        vertical-align: middle;\n",
       "    }\n",
       "\n",
       "    .dataframe tbody tr th {\n",
       "        vertical-align: top;\n",
       "    }\n",
       "\n",
       "    .dataframe thead th {\n",
       "        text-align: right;\n",
       "    }\n",
       "</style>\n",
       "<table border=\"1\" class=\"dataframe\">\n",
       "  <thead>\n",
       "    <tr style=\"text-align: right;\">\n",
       "      <th></th>\n",
       "      <th>song</th>\n",
       "      <th>artist</th>\n",
       "    </tr>\n",
       "  </thead>\n",
       "  <tbody>\n",
       "    <tr>\n",
       "      <th>0</th>\n",
       "      <td>Bad Habit</td>\n",
       "      <td>Steve Lacy</td>\n",
       "    </tr>\n",
       "    <tr>\n",
       "      <th>1</th>\n",
       "      <td>Unholy</td>\n",
       "      <td>Sam Smith &amp; Kim Petras</td>\n",
       "    </tr>\n",
       "    <tr>\n",
       "      <th>2</th>\n",
       "      <td>As It Was</td>\n",
       "      <td>Harry Styles</td>\n",
       "    </tr>\n",
       "    <tr>\n",
       "      <th>3</th>\n",
       "      <td>I Like You (A Happier Song)</td>\n",
       "      <td>Post Malone Featuring Doja Cat</td>\n",
       "    </tr>\n",
       "    <tr>\n",
       "      <th>4</th>\n",
       "      <td>Sunroof</td>\n",
       "      <td>Nicky Youre &amp; dazy</td>\n",
       "    </tr>\n",
       "    <tr>\n",
       "      <th>...</th>\n",
       "      <td>...</td>\n",
       "      <td>...</td>\n",
       "    </tr>\n",
       "    <tr>\n",
       "      <th>95</th>\n",
       "      <td>Gotta Move On</td>\n",
       "      <td>Diddy &amp; Bryson Tiller</td>\n",
       "    </tr>\n",
       "    <tr>\n",
       "      <th>96</th>\n",
       "      <td>Forget Me</td>\n",
       "      <td>Lewis Capaldi</td>\n",
       "    </tr>\n",
       "    <tr>\n",
       "      <th>97</th>\n",
       "      <td>Down Home</td>\n",
       "      <td>Jimmie Allen</td>\n",
       "    </tr>\n",
       "    <tr>\n",
       "      <th>98</th>\n",
       "      <td>What He Didn't Do</td>\n",
       "      <td>Carly Pearce</td>\n",
       "    </tr>\n",
       "    <tr>\n",
       "      <th>99</th>\n",
       "      <td>Talk</td>\n",
       "      <td>Yeat</td>\n",
       "    </tr>\n",
       "  </tbody>\n",
       "</table>\n",
       "<p>100 rows × 2 columns</p>\n",
       "</div>"
      ],
      "text/plain": [
       "                           song                          artist\n",
       "0                     Bad Habit                      Steve Lacy\n",
       "1                        Unholy          Sam Smith & Kim Petras\n",
       "2                     As It Was                    Harry Styles\n",
       "3   I Like You (A Happier Song)  Post Malone Featuring Doja Cat\n",
       "4                       Sunroof              Nicky Youre & dazy\n",
       "..                          ...                             ...\n",
       "95                Gotta Move On           Diddy & Bryson Tiller\n",
       "96                    Forget Me                   Lewis Capaldi\n",
       "97                    Down Home                    Jimmie Allen\n",
       "98            What He Didn't Do                    Carly Pearce\n",
       "99                         Talk                            Yeat\n",
       "\n",
       "[100 rows x 2 columns]"
      ]
     },
     "execution_count": 16,
     "metadata": {},
     "output_type": "execute_result"
    }
   ],
   "source": [
    "top100_b = pd.DataFrame(chart)\n",
    "top100_b"
   ]
  },
  {
   "cell_type": "code",
   "execution_count": null,
   "id": "c9210591",
   "metadata": {},
   "outputs": [],
   "source": []
  }
 ],
 "metadata": {
  "kernelspec": {
   "display_name": "Python 3 (ipykernel)",
   "language": "python",
   "name": "python3"
  },
  "language_info": {
   "codemirror_mode": {
    "name": "ipython",
    "version": 3
   },
   "file_extension": ".py",
   "mimetype": "text/x-python",
   "name": "python",
   "nbconvert_exporter": "python",
   "pygments_lexer": "ipython3",
   "version": "3.9.7"
  }
 },
 "nbformat": 4,
 "nbformat_minor": 5
}
